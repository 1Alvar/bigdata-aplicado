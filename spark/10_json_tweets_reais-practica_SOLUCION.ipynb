{
 "cells": [
  {
   "cell_type": "markdown",
   "id": "6ebfc546",
   "metadata": {},
   "source": [
    "#### Lectura de ficheiros con tweets completos - Algunhas preguntas interesantes sobre os tweets"
   ]
  },
  {
   "cell_type": "code",
   "execution_count": null,
   "id": "9cfa6535",
   "metadata": {},
   "outputs": [],
   "source": [
    "# Exercicio de repaso de consultas con spark.sql, lecturas, escrituras, gráficas, ....\n",
    "\n",
    "# Responde ás preguntas seguintes para coñecer un pouco mellor a estrutura dun Tweet\n",
    "# Realiza as consultas tanto en \"dot notation\" como en \"SQL notation\"\n",
    "# Exporta os datos de cada consulta CSV\n",
    "# Visualiza os resultados cunha gráfica (seaborn?)\n",
    "\n",
    "# Nota: podes practicar con un extracto do ficheiro final e despois executalo co \n",
    "# ficheiro completo"
   ]
  },
  {
   "cell_type": "code",
   "execution_count": null,
   "id": "b289725b",
   "metadata": {},
   "outputs": [],
   "source": [
    "# Realiza as consultas sobre o ficheiro con Tweets: tochotweets proporcionado polo profesor"
   ]
  },
  {
   "cell_type": "code",
   "execution_count": 2,
   "id": "a935b06f",
   "metadata": {},
   "outputs": [],
   "source": [
    "import pandas as pd\n",
    "import seaborn as sns"
   ]
  },
  {
   "cell_type": "code",
   "execution_count": 4,
   "id": "a76d8c04",
   "metadata": {},
   "outputs": [
    {
     "name": "stderr",
     "output_type": "stream",
     "text": [
      "                                                                                \r"
     ]
    }
   ],
   "source": [
    "# ficheiro: tochotweets.json\n",
    "ficheiro = \"file:///home/hduser/bigdata-aplicado/datasets/tweets_reais/tochotweets.json\"\n",
    "df = spark.read.json(ficheiro)"
   ]
  },
  {
   "cell_type": "code",
   "execution_count": 5,
   "id": "d60034eb",
   "metadata": {},
   "outputs": [
    {
     "name": "stdout",
     "output_type": "stream",
     "text": [
      "root\n",
      " |-- contributors: string (nullable = true)\n",
      " |-- coordinates: struct (nullable = true)\n",
      " |    |-- coordinates: array (nullable = true)\n",
      " |    |    |-- element: double (containsNull = true)\n",
      " |    |-- type: string (nullable = true)\n",
      " |-- created_at: string (nullable = true)\n",
      " |-- entities: struct (nullable = true)\n",
      " |    |-- hashtags: array (nullable = true)\n",
      " |    |    |-- element: struct (containsNull = true)\n",
      " |    |    |    |-- indices: array (nullable = true)\n",
      " |    |    |    |    |-- element: long (containsNull = true)\n",
      " |    |    |    |-- text: string (nullable = true)\n",
      " |    |-- media: array (nullable = true)\n",
      " |    |    |-- element: struct (containsNull = true)\n",
      " |    |    |    |-- display_url: string (nullable = true)\n",
      " |    |    |    |-- expanded_url: string (nullable = true)\n",
      " |    |    |    |-- id: long (nullable = true)\n",
      " |    |    |    |-- id_str: string (nullable = true)\n",
      " |    |    |    |-- indices: array (nullable = true)\n",
      " |    |    |    |    |-- element: long (containsNull = true)\n",
      " |    |    |    |-- media_url: string (nullable = true)\n",
      " |    |    |    |-- media_url_https: string (nullable = true)\n",
      " |    |    |    |-- sizes: struct (nullable = true)\n",
      " |    |    |    |    |-- large: struct (nullable = true)\n",
      " |    |    |    |    |    |-- h: long (nullable = true)\n",
      " |    |    |    |    |    |-- resize: string (nullable = true)\n",
      " |    |    |    |    |    |-- w: long (nullable = true)\n",
      " |    |    |    |    |-- medium: struct (nullable = true)\n",
      " |    |    |    |    |    |-- h: long (nullable = true)\n",
      " |    |    |    |    |    |-- resize: string (nullable = true)\n",
      " |    |    |    |    |    |-- w: long (nullable = true)\n",
      " |    |    |    |    |-- small: struct (nullable = true)\n",
      " |    |    |    |    |    |-- h: long (nullable = true)\n",
      " |    |    |    |    |    |-- resize: string (nullable = true)\n",
      " |    |    |    |    |    |-- w: long (nullable = true)\n",
      " |    |    |    |    |-- thumb: struct (nullable = true)\n",
      " |    |    |    |    |    |-- h: long (nullable = true)\n",
      " |    |    |    |    |    |-- resize: string (nullable = true)\n",
      " |    |    |    |    |    |-- w: long (nullable = true)\n",
      " |    |    |    |-- source_status_id: long (nullable = true)\n",
      " |    |    |    |-- source_status_id_str: string (nullable = true)\n",
      " |    |    |    |-- type: string (nullable = true)\n",
      " |    |    |    |-- url: string (nullable = true)\n",
      " |    |-- urls: array (nullable = true)\n",
      " |    |    |-- element: struct (containsNull = true)\n",
      " |    |    |    |-- display_url: string (nullable = true)\n",
      " |    |    |    |-- expanded_url: string (nullable = true)\n",
      " |    |    |    |-- indices: array (nullable = true)\n",
      " |    |    |    |    |-- element: long (containsNull = true)\n",
      " |    |    |    |-- url: string (nullable = true)\n",
      " |    |-- user_mentions: array (nullable = true)\n",
      " |    |    |-- element: struct (containsNull = true)\n",
      " |    |    |    |-- id: long (nullable = true)\n",
      " |    |    |    |-- id_str: string (nullable = true)\n",
      " |    |    |    |-- indices: array (nullable = true)\n",
      " |    |    |    |    |-- element: long (containsNull = true)\n",
      " |    |    |    |-- name: string (nullable = true)\n",
      " |    |    |    |-- screen_name: string (nullable = true)\n",
      " |-- favorited: boolean (nullable = true)\n",
      " |-- geo: struct (nullable = true)\n",
      " |    |-- coordinates: array (nullable = true)\n",
      " |    |    |-- element: double (containsNull = true)\n",
      " |    |-- type: string (nullable = true)\n",
      " |-- id: long (nullable = true)\n",
      " |-- id_str: string (nullable = true)\n",
      " |-- in_reply_to_screen_name: string (nullable = true)\n",
      " |-- in_reply_to_status_id: long (nullable = true)\n",
      " |-- in_reply_to_status_id_str: string (nullable = true)\n",
      " |-- in_reply_to_user_id: long (nullable = true)\n",
      " |-- in_reply_to_user_id_str: string (nullable = true)\n",
      " |-- lang: string (nullable = true)\n",
      " |-- limit: struct (nullable = true)\n",
      " |    |-- track: long (nullable = true)\n",
      " |-- place: struct (nullable = true)\n",
      " |    |-- attributes: struct (nullable = true)\n",
      " |    |    |-- locality: string (nullable = true)\n",
      " |    |    |-- region: string (nullable = true)\n",
      " |    |    |-- street_address: string (nullable = true)\n",
      " |    |-- bounding_box: struct (nullable = true)\n",
      " |    |    |-- coordinates: array (nullable = true)\n",
      " |    |    |    |-- element: array (containsNull = true)\n",
      " |    |    |    |    |-- element: array (containsNull = true)\n",
      " |    |    |    |    |    |-- element: double (containsNull = true)\n",
      " |    |    |-- type: string (nullable = true)\n",
      " |    |-- country: string (nullable = true)\n",
      " |    |-- country_code: string (nullable = true)\n",
      " |    |-- full_name: string (nullable = true)\n",
      " |    |-- id: string (nullable = true)\n",
      " |    |-- name: string (nullable = true)\n",
      " |    |-- place_type: string (nullable = true)\n",
      " |    |-- url: string (nullable = true)\n",
      " |-- possibly_sensitive: boolean (nullable = true)\n",
      " |-- retweet_count: long (nullable = true)\n",
      " |-- retweeted: boolean (nullable = true)\n",
      " |-- retweeted_status: struct (nullable = true)\n",
      " |    |-- contributors: array (nullable = true)\n",
      " |    |    |-- element: long (containsNull = true)\n",
      " |    |-- coordinates: struct (nullable = true)\n",
      " |    |    |-- coordinates: array (nullable = true)\n",
      " |    |    |    |-- element: double (containsNull = true)\n",
      " |    |    |-- type: string (nullable = true)\n",
      " |    |-- created_at: string (nullable = true)\n",
      " |    |-- entities: struct (nullable = true)\n",
      " |    |    |-- hashtags: array (nullable = true)\n",
      " |    |    |    |-- element: struct (containsNull = true)\n",
      " |    |    |    |    |-- indices: array (nullable = true)\n",
      " |    |    |    |    |    |-- element: long (containsNull = true)\n",
      " |    |    |    |    |-- text: string (nullable = true)\n",
      " |    |    |-- media: array (nullable = true)\n",
      " |    |    |    |-- element: struct (containsNull = true)\n",
      " |    |    |    |    |-- display_url: string (nullable = true)\n",
      " |    |    |    |    |-- expanded_url: string (nullable = true)\n",
      " |    |    |    |    |-- id: long (nullable = true)\n",
      " |    |    |    |    |-- id_str: string (nullable = true)\n",
      " |    |    |    |    |-- indices: array (nullable = true)\n",
      " |    |    |    |    |    |-- element: long (containsNull = true)\n",
      " |    |    |    |    |-- media_url: string (nullable = true)\n",
      " |    |    |    |    |-- media_url_https: string (nullable = true)\n",
      " |    |    |    |    |-- sizes: struct (nullable = true)\n",
      " |    |    |    |    |    |-- large: struct (nullable = true)\n",
      " |    |    |    |    |    |    |-- h: long (nullable = true)\n",
      " |    |    |    |    |    |    |-- resize: string (nullable = true)\n",
      " |    |    |    |    |    |    |-- w: long (nullable = true)\n",
      " |    |    |    |    |    |-- medium: struct (nullable = true)\n",
      " |    |    |    |    |    |    |-- h: long (nullable = true)\n",
      " |    |    |    |    |    |    |-- resize: string (nullable = true)\n",
      " |    |    |    |    |    |    |-- w: long (nullable = true)\n",
      " |    |    |    |    |    |-- small: struct (nullable = true)\n",
      " |    |    |    |    |    |    |-- h: long (nullable = true)\n",
      " |    |    |    |    |    |    |-- resize: string (nullable = true)\n",
      " |    |    |    |    |    |    |-- w: long (nullable = true)\n",
      " |    |    |    |    |    |-- thumb: struct (nullable = true)\n",
      " |    |    |    |    |    |    |-- h: long (nullable = true)\n",
      " |    |    |    |    |    |    |-- resize: string (nullable = true)\n",
      " |    |    |    |    |    |    |-- w: long (nullable = true)\n",
      " |    |    |    |    |-- source_status_id: long (nullable = true)\n",
      " |    |    |    |    |-- source_status_id_str: string (nullable = true)\n",
      " |    |    |    |    |-- type: string (nullable = true)\n",
      " |    |    |    |    |-- url: string (nullable = true)\n",
      " |    |    |-- urls: array (nullable = true)\n",
      " |    |    |    |-- element: struct (containsNull = true)\n",
      " |    |    |    |    |-- display_url: string (nullable = true)\n",
      " |    |    |    |    |-- expanded_url: string (nullable = true)\n",
      " |    |    |    |    |-- indices: array (nullable = true)\n",
      " |    |    |    |    |    |-- element: long (containsNull = true)\n",
      " |    |    |    |    |-- url: string (nullable = true)\n",
      " |    |    |-- user_mentions: array (nullable = true)\n",
      " |    |    |    |-- element: struct (containsNull = true)\n",
      " |    |    |    |    |-- id: long (nullable = true)\n",
      " |    |    |    |    |-- id_str: string (nullable = true)\n",
      " |    |    |    |    |-- indices: array (nullable = true)\n",
      " |    |    |    |    |    |-- element: long (containsNull = true)\n",
      " |    |    |    |    |-- name: string (nullable = true)\n",
      " |    |    |    |    |-- screen_name: string (nullable = true)\n",
      " |    |-- favorited: boolean (nullable = true)\n",
      " |    |-- geo: struct (nullable = true)\n",
      " |    |    |-- coordinates: array (nullable = true)\n",
      " |    |    |    |-- element: double (containsNull = true)\n",
      " |    |    |-- type: string (nullable = true)\n",
      " |    |-- id: long (nullable = true)\n",
      " |    |-- id_str: string (nullable = true)\n",
      " |    |-- in_reply_to_screen_name: string (nullable = true)\n",
      " |    |-- in_reply_to_status_id: long (nullable = true)\n",
      " |    |-- in_reply_to_status_id_str: string (nullable = true)\n",
      " |    |-- in_reply_to_user_id: long (nullable = true)\n",
      " |    |-- in_reply_to_user_id_str: string (nullable = true)\n",
      " |    |-- lang: string (nullable = true)\n",
      " |    |-- place: struct (nullable = true)\n",
      " |    |    |-- attributes: struct (nullable = true)\n",
      " |    |    |    |-- street_address: string (nullable = true)\n",
      " |    |    |-- bounding_box: struct (nullable = true)\n",
      " |    |    |    |-- coordinates: array (nullable = true)\n",
      " |    |    |    |    |-- element: array (containsNull = true)\n",
      " |    |    |    |    |    |-- element: array (containsNull = true)\n",
      " |    |    |    |    |    |    |-- element: double (containsNull = true)\n",
      " |    |    |    |-- type: string (nullable = true)\n",
      " |    |    |-- country: string (nullable = true)\n",
      " |    |    |-- country_code: string (nullable = true)\n",
      " |    |    |-- full_name: string (nullable = true)\n",
      " |    |    |-- id: string (nullable = true)\n",
      " |    |    |-- name: string (nullable = true)\n",
      " |    |    |-- place_type: string (nullable = true)\n",
      " |    |    |-- url: string (nullable = true)\n",
      " |    |-- possibly_sensitive: boolean (nullable = true)\n",
      " |    |-- retweet_count: long (nullable = true)\n",
      " |    |-- retweeted: boolean (nullable = true)\n",
      " |    |-- scopes: struct (nullable = true)\n",
      " |    |    |-- followers: boolean (nullable = true)\n",
      " |    |-- source: string (nullable = true)\n",
      " |    |-- text: string (nullable = true)\n",
      " |    |-- truncated: boolean (nullable = true)\n",
      " |    |-- user: struct (nullable = true)\n",
      " |    |    |-- contributors_enabled: boolean (nullable = true)\n",
      " |    |    |-- created_at: string (nullable = true)\n",
      " |    |    |-- default_profile: boolean (nullable = true)\n",
      " |    |    |-- default_profile_image: boolean (nullable = true)\n",
      " |    |    |-- description: string (nullable = true)\n",
      " |    |    |-- favourites_count: long (nullable = true)\n",
      " |    |    |-- follow_request_sent: string (nullable = true)\n",
      " |    |    |-- followers_count: long (nullable = true)\n",
      " |    |    |-- following: string (nullable = true)\n",
      " |    |    |-- friends_count: long (nullable = true)\n",
      " |    |    |-- geo_enabled: boolean (nullable = true)\n",
      " |    |    |-- id: long (nullable = true)\n",
      " |    |    |-- id_str: string (nullable = true)\n",
      " |    |    |-- is_translator: boolean (nullable = true)\n",
      " |    |    |-- lang: string (nullable = true)\n",
      " |    |    |-- listed_count: long (nullable = true)\n",
      " |    |    |-- location: string (nullable = true)\n",
      " |    |    |-- name: string (nullable = true)\n",
      " |    |    |-- notifications: string (nullable = true)\n",
      " |    |    |-- profile_background_color: string (nullable = true)\n",
      " |    |    |-- profile_background_image_url: string (nullable = true)\n",
      " |    |    |-- profile_background_image_url_https: string (nullable = true)\n",
      " |    |    |-- profile_background_tile: boolean (nullable = true)\n",
      " |    |    |-- profile_banner_url: string (nullable = true)\n",
      " |    |    |-- profile_image_url: string (nullable = true)\n",
      " |    |    |-- profile_image_url_https: string (nullable = true)\n",
      " |    |    |-- profile_link_color: string (nullable = true)\n",
      " |    |    |-- profile_sidebar_border_color: string (nullable = true)\n",
      " |    |    |-- profile_sidebar_fill_color: string (nullable = true)\n",
      " |    |    |-- profile_text_color: string (nullable = true)\n",
      " |    |    |-- profile_use_background_image: boolean (nullable = true)\n",
      " |    |    |-- protected: boolean (nullable = true)\n",
      " |    |    |-- screen_name: string (nullable = true)\n",
      " |    |    |-- statuses_count: long (nullable = true)\n",
      " |    |    |-- time_zone: string (nullable = true)\n",
      " |    |    |-- url: string (nullable = true)\n",
      " |    |    |-- utc_offset: long (nullable = true)\n",
      " |    |    |-- verified: boolean (nullable = true)\n",
      " |-- source: string (nullable = true)\n",
      " |-- text: string (nullable = true)\n",
      " |-- truncated: boolean (nullable = true)\n",
      " |-- user: struct (nullable = true)\n",
      " |    |-- contributors_enabled: boolean (nullable = true)\n",
      " |    |-- created_at: string (nullable = true)\n",
      " |    |-- default_profile: boolean (nullable = true)\n",
      " |    |-- default_profile_image: boolean (nullable = true)\n",
      " |    |-- description: string (nullable = true)\n",
      " |    |-- favourites_count: long (nullable = true)\n",
      " |    |-- follow_request_sent: string (nullable = true)\n",
      " |    |-- followers_count: long (nullable = true)\n",
      " |    |-- following: string (nullable = true)\n",
      " |    |-- friends_count: long (nullable = true)\n",
      " |    |-- geo_enabled: boolean (nullable = true)\n",
      " |    |-- id: long (nullable = true)\n",
      " |    |-- id_str: string (nullable = true)\n",
      " |    |-- is_translator: boolean (nullable = true)\n",
      " |    |-- lang: string (nullable = true)\n",
      " |    |-- listed_count: long (nullable = true)\n",
      " |    |-- location: string (nullable = true)\n",
      " |    |-- name: string (nullable = true)\n",
      " |    |-- notifications: string (nullable = true)\n",
      " |    |-- profile_background_color: string (nullable = true)\n",
      " |    |-- profile_background_image_url: string (nullable = true)\n",
      " |    |-- profile_background_image_url_https: string (nullable = true)\n",
      " |    |-- profile_background_tile: boolean (nullable = true)\n",
      " |    |-- profile_banner_url: string (nullable = true)\n",
      " |    |-- profile_image_url: string (nullable = true)\n",
      " |    |-- profile_image_url_https: string (nullable = true)\n",
      " |    |-- profile_link_color: string (nullable = true)\n",
      " |    |-- profile_sidebar_border_color: string (nullable = true)\n",
      " |    |-- profile_sidebar_fill_color: string (nullable = true)\n",
      " |    |-- profile_text_color: string (nullable = true)\n",
      " |    |-- profile_use_background_image: boolean (nullable = true)\n",
      " |    |-- protected: boolean (nullable = true)\n",
      " |    |-- screen_name: string (nullable = true)\n",
      " |    |-- statuses_count: long (nullable = true)\n",
      " |    |-- time_zone: string (nullable = true)\n",
      " |    |-- url: string (nullable = true)\n",
      " |    |-- utc_offset: long (nullable = true)\n",
      " |    |-- verified: boolean (nullable = true)\n",
      "\n"
     ]
    }
   ],
   "source": [
    "# Miro o schema\n",
    "# A diferenza do exemplo visto anteriormente, un tweet real ten un schema moito mais amplo\n",
    "# con moita mais información\n",
    "df.printSchema()"
   ]
  },
  {
   "cell_type": "code",
   "execution_count": 6,
   "id": "771b19df",
   "metadata": {},
   "outputs": [],
   "source": [
    "# Crea unha vista sobre a que facer consultsa con SQL\n",
    "df.createOrReplaceTempView('tweets')"
   ]
  },
  {
   "cell_type": "code",
   "execution_count": 7,
   "id": "995fe473",
   "metadata": {},
   "outputs": [],
   "source": [
    "# 1. Cales son os países con máis tweets?\n",
    "# Son fiables os datos?"
   ]
  },
  {
   "cell_type": "code",
   "execution_count": 8,
   "id": "db25fed3",
   "metadata": {},
   "outputs": [
    {
     "name": "stderr",
     "output_type": "stream",
     "text": [
      "[Stage 1:===============================================>         (10 + 2) / 12]\r"
     ]
    },
    {
     "name": "stdout",
     "output_type": "stream",
     "text": [
      "+--------------+-----+\n",
      "|       country|count|\n",
      "+--------------+-----+\n",
      "| United States| 4437|\n",
      "|        Brasil| 1043|\n",
      "|United Kingdom|  601|\n",
      "|     Indonesia|  360|\n",
      "|        Canada|  198|\n",
      "|         Chile|  131|\n",
      "|        México|  125|\n",
      "|        España|   95|\n",
      "|      Malaysia|   90|\n",
      "|        Italia|   60|\n",
      "|        France|   55|\n",
      "|   Reino Unido|   46|\n",
      "|        Mexico|   36|\n",
      "|       Ireland|   35|\n",
      "|       Sverige|   26|\n",
      "|      Portugal|   22|\n",
      "|       Türkiye|   22|\n",
      "|        Sweden|   20|\n",
      "|        Norway|   20|\n",
      "|     Nederland|   17|\n",
      "+--------------+-----+\n",
      "only showing top 20 rows\n",
      "\n"
     ]
    },
    {
     "name": "stderr",
     "output_type": "stream",
     "text": [
      "\r",
      "                                                                                \r"
     ]
    }
   ],
   "source": [
    "# dot notation\n",
    "df.filter(df.place.country != 'null').groupBy('place.country').count().orderBy('count',ascending=False).show()"
   ]
  },
  {
   "cell_type": "code",
   "execution_count": 9,
   "id": "c0608f19",
   "metadata": {},
   "outputs": [
    {
     "name": "stderr",
     "output_type": "stream",
     "text": [
      "[Stage 4:===============================================>         (10 + 2) / 12]\r"
     ]
    },
    {
     "name": "stdout",
     "output_type": "stream",
     "text": [
      "+--------------+--------+\n",
      "|       country|mensaxes|\n",
      "+--------------+--------+\n",
      "| United States|    4437|\n",
      "|        Brasil|    1043|\n",
      "|United Kingdom|     601|\n",
      "|     Indonesia|     360|\n",
      "|        Canada|     198|\n",
      "|         Chile|     131|\n",
      "|        México|     125|\n",
      "|        España|      95|\n",
      "|      Malaysia|      90|\n",
      "|        Italia|      60|\n",
      "|        France|      55|\n",
      "|   Reino Unido|      46|\n",
      "|        Mexico|      36|\n",
      "|       Ireland|      35|\n",
      "|       Sverige|      26|\n",
      "|      Portugal|      22|\n",
      "|       Türkiye|      22|\n",
      "|        Sweden|      20|\n",
      "|        Norway|      20|\n",
      "|     Nederland|      17|\n",
      "+--------------+--------+\n",
      "only showing top 20 rows\n",
      "\n"
     ]
    },
    {
     "name": "stderr",
     "output_type": "stream",
     "text": [
      "\r",
      "                                                                                \r"
     ]
    }
   ],
   "source": [
    "# SQL notation\n",
    "tweetsxpais = spark.sql(\"SELECT place.country, count(*) as mensaxes FROM tweets WHERE place.country IS NOT NULL GROUP BY place.country ORDER BY mensaxes DESC\")\n",
    "tweetsxpais.show()"
   ]
  },
  {
   "cell_type": "code",
   "execution_count": 11,
   "id": "15e6aa05",
   "metadata": {},
   "outputs": [
    {
     "data": {
      "image/png": "[encoded data removed]",
      "text/plain": [
       "<Figure size 432x288 with 1 Axes>"
      ]
     },
     "metadata": {
      "needs_background": "light"
     },
     "output_type": "display_data"
    }
   ],
   "source": [
    "topcountries = tweetsxpais.toPandas().iloc[:10]\n",
    "ax = sns.barplot(data=topcountries,y='country',x='mensaxes')"
   ]
  },
  {
   "cell_type": "code",
   "execution_count": 12,
   "id": "309bd7b8",
   "metadata": {},
   "outputs": [
    {
     "name": "stderr",
     "output_type": "stream",
     "text": [
      "                                                                                \r"
     ]
    }
   ],
   "source": [
    "# Escritura a ficheiro\n",
    "tweetsxpais.write.csv('file:///home/hduser/output/tweets/tweetsxpais.csv')"
   ]
  },
  {
   "cell_type": "code",
   "execution_count": 13,
   "id": "74fa4a35",
   "metadata": {},
   "outputs": [],
   "source": [
    "tweetsxpais.toPandas().to_csv('/home/hduser/output/tweets/tweesxpais_pandas.csv')"
   ]
  },
  {
   "cell_type": "code",
   "execution_count": null,
   "id": "4662f889",
   "metadata": {},
   "outputs": [],
   "source": []
  },
  {
   "cell_type": "code",
   "execution_count": null,
   "id": "4b74322b",
   "metadata": {},
   "outputs": [],
   "source": [
    "# 2. Cales é o idioma máis presente na rede?\n",
    "# Son fiables os datos?"
   ]
  },
  {
   "cell_type": "code",
   "execution_count": null,
   "id": "4d02c256",
   "metadata": {},
   "outputs": [],
   "source": [
    "# dot notation\n",
    "df.filter(df.lang != 'null').groupBy('lang').count().orderBy('count',ascending=False).show()"
   ]
  },
  {
   "cell_type": "code",
   "execution_count": null,
   "id": "c4db7259",
   "metadata": {},
   "outputs": [],
   "source": [
    "# sql notation\n",
    "tweetsxlingua = spark.sql(\"SELECT lang, count(*) AS conta FROM tweets GROUP BY lang ORDER BY conta DESC\")\n",
    "tweetsxlingua.show()"
   ]
  },
  {
   "cell_type": "code",
   "execution_count": null,
   "id": "ff26c0dd",
   "metadata": {},
   "outputs": [],
   "source": [
    "toplinguas = tweetsxlingua.toPandas().iloc[:10]\n",
    "ax = sns.barplot(data=toplinguas,y='lang',x='conta')"
   ]
  },
  {
   "cell_type": "code",
   "execution_count": null,
   "id": "801cd824",
   "metadata": {},
   "outputs": [],
   "source": [
    "# Escritura a ficheiro\n",
    "tweetsxlingua.write.csv('file:///home/hduser/output/tweets/tweetsxlingua.csv',sep=';')\n",
    "tweetsxlingua.toPandas().to_csv('/home/hduser/output/tweets/tweesxlingua_pandas.csv',sep=';',index=None)"
   ]
  },
  {
   "cell_type": "code",
   "execution_count": null,
   "id": "4008f19d",
   "metadata": {},
   "outputs": [],
   "source": [
    "# 3. Tweeteiros máis activos"
   ]
  },
  {
   "cell_type": "code",
   "execution_count": null,
   "id": "9667600d",
   "metadata": {},
   "outputs": [],
   "source": [
    "# dot notation\n",
    "df.filter(df.user.screen_name != 'null').groupBy(df.user.screen_name).count().orderBy('count',ascending=False).show()"
   ]
  },
  {
   "cell_type": "code",
   "execution_count": null,
   "id": "9df6ef84",
   "metadata": {},
   "outputs": [],
   "source": [
    "# SQL notation\n",
    "tuiteirosactivos = spark.sql(\"SELECT user.screen_name, count(*) AS conta \\\n",
    "          FROM tweets WHERE user.screen_name IS NOT NULL \\\n",
    "          GROUP BY user.screen_name \\\n",
    "          ORDER BY conta DESC\")\n",
    "tuiteirosactivos.show()"
   ]
  },
  {
   "cell_type": "code",
   "execution_count": null,
   "id": "91be849a",
   "metadata": {},
   "outputs": [],
   "source": [
    "toptuiteiros = tuiteirosactivos.toPandas().iloc[:10]\n",
    "ax = sns.barplot(data=toptuiteiros,y='screen_name',x='conta')"
   ]
  },
  {
   "cell_type": "code",
   "execution_count": null,
   "id": "cd5f4087",
   "metadata": {},
   "outputs": [],
   "source": [
    "# Escritura a ficheiro\n",
    "tuiteirosactivos.write.csv('file:///home/hduser/output/tweets/tuiteirosactivos.csv',sep=';')\n",
    "tuiteirosactivos.toPandas().to_csv('/home/hduser/output/tweets/tuiteirosactivos_pandas.csv',sep=';',index=None)"
   ]
  },
  {
   "cell_type": "code",
   "execution_count": null,
   "id": "ada61682",
   "metadata": {},
   "outputs": [],
   "source": [
    "# 4. Tweeteiros con máis seguidores"
   ]
  },
  {
   "cell_type": "code",
   "execution_count": null,
   "id": "b23606be",
   "metadata": {},
   "outputs": [],
   "source": [
    "# dot notation\n",
    "df.select(df.user.screen_name,df.user.followers_count.alias('followers')).orderBy('followers',ascending=False).show()"
   ]
  },
  {
   "cell_type": "code",
   "execution_count": null,
   "id": "94cbe2f9",
   "metadata": {},
   "outputs": [],
   "source": [
    "# SQL notation\n",
    "tfollowers = spark.sql('SELECT user.screen_name AS user, user.followers_count AS followers FROM tweets ORDER BY followers DESC')\n",
    "tfollowers.show()"
   ]
  },
  {
   "cell_type": "code",
   "execution_count": null,
   "id": "6f2d1fc3",
   "metadata": {},
   "outputs": [],
   "source": [
    "topfollowers = tfollowers.toPandas().iloc[0:10]\n",
    "ax = sns.barplot(data=topfollowers,y='user',x='followers')"
   ]
  },
  {
   "cell_type": "code",
   "execution_count": null,
   "id": "8e62b8b8",
   "metadata": {},
   "outputs": [],
   "source": [
    "# Escritura a ficheiro\n",
    "tfollowers.write.csv('file:///home/hduser/output/tweets/tfollowers.csv',sep=';')\n",
    "tfollowers.toPandas().to_csv('/home/hduser/output/tweets/tfollowers_pandas.csv',sep=';',index=None)"
   ]
  },
  {
   "cell_type": "code",
   "execution_count": null,
   "id": "5f90f7bd",
   "metadata": {},
   "outputs": [],
   "source": []
  }
 ],
 "metadata": {
  "kernelspec": {
   "display_name": "Python 3 (ipykernel)",
   "language": "python",
   "name": "python3"
  },
  "language_info": {
   "codemirror_mode": {
    "name": "ipython",
    "version": 3
   },
   "file_extension": ".py",
   "mimetype": "text/x-python",
   "name": "python",
   "nbconvert_exporter": "python",
   "pygments_lexer": "ipython3",
   "version": "3.8.10"
  }
 },
 "nbformat": 4,
 "nbformat_minor": 5
}
